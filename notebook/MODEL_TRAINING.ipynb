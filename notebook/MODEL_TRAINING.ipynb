{
 "cells": [
  {
   "cell_type": "markdown",
   "id": "4a195e47",
   "metadata": {},
   "source": [
    "**Data Transformation**"
   ]
  },
  {
   "cell_type": "code",
   "execution_count": 1,
   "id": "dc0ceb44",
   "metadata": {},
   "outputs": [
    {
     "name": "stdout",
     "output_type": "stream",
     "text": [
      "Found 51288 data points.\n"
     ]
    }
   ],
   "source": [
    "import os\n",
    "import sys\n",
    "\n",
    "# Add the project root to the Python path\n",
    "# This allows us to import our custom modules\n",
    "sys.path.append(os.path.abspath(os.path.join(os.getcwd(), '..')))\n",
    "\n",
    "from src.components.data_ingestion import DataIngestion\n",
    "from src.exception import CustomException\n",
    "\n",
    "# Get the structured data paths\n",
    "try:\n",
    "    ingestion = DataIngestion()\n",
    "    data_paths = ingestion.get_data_paths()\n",
    "    print(f\"Found {len(data_paths)} data points.\")\n",
    "except Exception as e:\n",
    "    raise CustomException(e, sys)"
   ]
  },
  {
   "cell_type": "code",
   "execution_count": 7,
   "id": "1c17d7de",
   "metadata": {},
   "outputs": [
    {
     "name": "stdout",
     "output_type": "stream",
     "text": [
      "Image batch shape: torch.Size([16, 3, 224, 224])\n",
      "Rotation batch shape: torch.Size([16, 3, 3])\n",
      "Translation batch shape: torch.Size([16, 3])\n"
     ]
    }
   ],
   "source": [
    "from src.components.dataset import YCBVideoDataset\n",
    "from torch.utils.data import DataLoader # Add this line\n",
    "from torchvision import transforms\n",
    "\n",
    "\n",
    "# Define the transformations for the input image\n",
    "image_transform = transforms.Compose([\n",
    "    transforms.ToTensor(),\n",
    "    transforms.Resize((224, 224), antialias=True),\n",
    "    transforms.Normalize(mean=[0.485, 0.456, 0.406], std=[0.229, 0.224, 0.225])\n",
    "])\n",
    "\n",
    "# Create an instance of our custom dataset\n",
    "ycb_dataset = YCBVideoDataset(data_paths=data_paths, transform=image_transform)\n",
    "\n",
    "# Create the DataLoader\n",
    "batch_size = 16\n",
    "data_loader = DataLoader(ycb_dataset, batch_size=batch_size, shuffle=True, num_workers=4)\n",
    "\n",
    "# Let's test it by getting one batch\n",
    "data = next(iter(data_loader))\n",
    "images, rotations, translations = data['image'], data['rotation'], data['translation']\n",
    "\n",
    "# Print the shape of the batch\n",
    "print(f\"Image batch shape: {images.shape}\")\n",
    "print(f\"Rotation batch shape: {rotations.shape}\")\n",
    "print(f\"Translation batch shape: {translations.shape}\")"
   ]
  }
 ],
 "metadata": {
  "kernelspec": {
   "display_name": "Python 3",
   "language": "python",
   "name": "python3"
  },
  "language_info": {
   "codemirror_mode": {
    "name": "ipython",
    "version": 3
   },
   "file_extension": ".py",
   "mimetype": "text/x-python",
   "name": "python",
   "nbconvert_exporter": "python",
   "pygments_lexer": "ipython3",
   "version": "3.8.20"
  }
 },
 "nbformat": 4,
 "nbformat_minor": 5
}
